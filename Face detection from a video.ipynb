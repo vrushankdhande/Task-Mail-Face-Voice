{
 "cells": [
  {
   "cell_type": "markdown",
   "id": "ad8a6e1a",
   "metadata": {},
   "source": [
    "Import important library"
   ]
  },
  {
   "cell_type": "code",
   "execution_count": 12,
   "id": "8bf3034c",
   "metadata": {},
   "outputs": [],
   "source": [
    "import cv2"
   ]
  },
  {
   "cell_type": "markdown",
   "id": "2c45f1ad",
   "metadata": {},
   "source": [
    "Face detection model"
   ]
  },
  {
   "cell_type": "code",
   "execution_count": 13,
   "id": "c1d54d7a",
   "metadata": {},
   "outputs": [],
   "source": [
    "face_cascade = cv2.CascadeClassifier('haarcascade_frontalface_default.xml')"
   ]
  },
  {
   "cell_type": "markdown",
   "id": "adc1bb1f",
   "metadata": {},
   "source": [
    "Using webcamera"
   ]
  },
  {
   "cell_type": "code",
   "execution_count": null,
   "id": "8ecf885a",
   "metadata": {},
   "outputs": [],
   "source": [
    "cap = cv2.VideoCapture(0)"
   ]
  },
  {
   "cell_type": "markdown",
   "id": "bbf66b03",
   "metadata": {},
   "source": [
    "Using a video file"
   ]
  },
  {
   "cell_type": "code",
   "execution_count": 14,
   "id": "18563edc",
   "metadata": {},
   "outputs": [],
   "source": [
    "cap = cv2.VideoCapture('That Little Voice.mp4')"
   ]
  },
  {
   "cell_type": "markdown",
   "id": "f56ba1d8",
   "metadata": {},
   "source": [
    "Main detection of the faces and boxes on the faces"
   ]
  },
  {
   "cell_type": "code",
   "execution_count": 15,
   "id": "90fcc1a0",
   "metadata": {},
   "outputs": [],
   "source": [
    "while True:\n",
    "\n",
    "    _, img = cap.read()\n",
    "\n",
    "    gray = cv2.cvtColor(img, cv2.COLOR_BGR2GRAY)\n",
    "\n",
    "    faces = face_cascade.detectMultiScale(gray, 1.1, 4)\n",
    "    \n",
    "    count=0\n",
    "\n",
    "    for (x, y, w, h) in faces:\n",
    "        cv2.rectangle(img, (x, y), (x+w, y+h), (255, 0, 0), 2)\n",
    "        count+=1\n",
    "        cv2.putText(img, 'face'+str(count), (x-12,y-12),cv2.FONT_HERSHEY_SCRIPT_SIMPLEX,0.7,(0,255,0),2)\n",
    "        \n",
    "    \n",
    "\n",
    "    cv2.imshow('img', img)\n",
    "\n",
    "    if cv2.waitKey(1)==ord('q'):\n",
    "        break\n",
    "\n",
    "cap.release()\n",
    "cv2.destroyAllWindows()"
   ]
  }
 ],
 "metadata": {
  "kernelspec": {
   "display_name": "Python 3 (ipykernel)",
   "language": "python",
   "name": "python3"
  },
  "language_info": {
   "codemirror_mode": {
    "name": "ipython",
    "version": 3
   },
   "file_extension": ".py",
   "mimetype": "text/x-python",
   "name": "python",
   "nbconvert_exporter": "python",
   "pygments_lexer": "ipython3",
   "version": "3.9.13"
  }
 },
 "nbformat": 4,
 "nbformat_minor": 5
}
